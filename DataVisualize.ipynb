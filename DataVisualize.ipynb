{
  "nbformat": 4,
  "nbformat_minor": 0,
  "metadata": {
    "colab": {
      "provenance": [],
      "authorship_tag": "ABX9TyNaBhiKLZL6oOvLJZgwyo8U",
      "include_colab_link": true
    },
    "kernelspec": {
      "name": "python3",
      "display_name": "Python 3"
    },
    "language_info": {
      "name": "python"
    }
  },
  "cells": [
    {
      "cell_type": "markdown",
      "metadata": {
        "id": "view-in-github",
        "colab_type": "text"
      },
      "source": [
        "<a href=\"https://colab.research.google.com/github/sud0x00/SharadaProject-Annotated_Dataset/blob/main/DataVisualize.ipynb\" target=\"_parent\"><img src=\"https://colab.research.google.com/assets/colab-badge.svg\" alt=\"Open In Colab\"/></a>"
      ]
    },
    {
      "cell_type": "markdown",
      "source": [
        "# Data Visualization"
      ],
      "metadata": {
        "id": "zWChxqkagxRf"
      }
    },
    {
      "cell_type": "markdown",
      "source": [
        "### The following notebook contains code related to visualizing the data after extracting the images with labels from the annotations."
      ],
      "metadata": {
        "id": "SAuQw8l3g46h"
      }
    },
    {
      "cell_type": "code",
      "execution_count": 1,
      "metadata": {
        "colab": {
          "base_uri": "https://localhost:8080/"
        },
        "id": "on50YoIWMpqD",
        "outputId": "d93bb04f-3fd5-4000-bc7e-a579440d4a9e"
      },
      "outputs": [
        {
          "output_type": "stream",
          "name": "stdout",
          "text": [
            "Cloning into 'SharadaProject-Annotated_Dataset'...\n",
            "remote: Enumerating objects: 438, done.\u001b[K\n",
            "remote: Total 438 (delta 0), reused 0 (delta 0), pack-reused 438\u001b[K\n",
            "Receiving objects: 100% (438/438), 371.36 MiB | 23.60 MiB/s, done.\n",
            "Resolving deltas: 100% (32/32), done.\n",
            "Updating files: 100% (497/497), done.\n"
          ]
        }
      ],
      "source": [
        "!git clone https://github.com/sud0x00/SharadaProject-Annotated_Dataset.git"
      ]
    },
    {
      "cell_type": "code",
      "source": [
        "%mkdir dataset"
      ],
      "metadata": {
        "id": "RFCdD74pN-NP"
      },
      "execution_count": 10,
      "outputs": []
    },
    {
      "cell_type": "code",
      "source": [
        "from PIL import Image, ImageDraw, ImageOps\n",
        "import json\n",
        "import random\n",
        "import string\n",
        "import os\n",
        "import numpy as np\n",
        "import shutil"
      ],
      "metadata": {
        "id": "kOnyZynEN6_4"
      },
      "execution_count": 11,
      "outputs": []
    },
    {
      "cell_type": "markdown",
      "source": [
        "### The following code allows for the extraction images with labels from the annotations.\n",
        "\n",
        "There are multiple conditions and exceptions which are added in the code due to the mislabelling present in the data"
      ],
      "metadata": {
        "id": "pplX8zd2hQN7"
      }
    },
    {
      "cell_type": "code",
      "source": [
        "# Folder path containing the images and annotation files\n",
        "\n",
        "src_folder = '/content/SharadaProject-Annotated_Dataset/Annotated Dataset/large-dataset'\n",
        "dest_folder = '/content/dataset'\n",
        "\n",
        "# Iterate over the files in the folder\n",
        "for file_name in os.listdir(src_folder):\n",
        "    # Check if the file is an image\n",
        "    if file_name.endswith('.jpg') or file_name.endswith('.jpeg') or file_name.endswith('.png'):\n",
        "        # Construct the full file paths for the image and annotation files\n",
        "        image_file = os.path.join(src_folder, file_name)\n",
        "        annotation_file = os.path.join(src_folder, f\"{os.path.splitext(file_name)[0]}.json\")\n",
        "        # Load the annotation file\n",
        "        with open(annotation_file, 'r', encoding='utf-8') as f:\n",
        "            annotation = json.load(f)\n",
        "\n",
        "        # Get the image dimensions\n",
        "        image_height = annotation['imageHeight']\n",
        "        image_width = annotation['imageWidth']\n",
        "\n",
        "        # Open the original image\n",
        "        image = Image.open(image_file)\n",
        "\n",
        "        # Loop through each shape in the annotation\n",
        "        for shape in annotation['shapes']:\n",
        "            shape_type = shape['shape_type']\n",
        "            group_id = shape['group_id']\n",
        "            label = shape['label']\n",
        "            coordinates = shape['points']\n",
        "\n",
        "\n",
        "            # Check if label is equal to \"||\" and change it to \"..\"\n",
        "            if label == '||':\n",
        "                label = 'fs2'\n",
        "\n",
        "            if label == '|':\n",
        "                label = 'fs1'\n",
        "\n",
        "            if label == '|| || ||':\n",
        "                label = 'fs3'\n",
        "\n",
        "            if label == '?':\n",
        "                label = 'unk'\n",
        "\n",
        "            if label == '.':\n",
        "                label = 'period'\n",
        "\n",
        "            if label == '^':\n",
        "                label = 'oth1'\n",
        "\n",
        "            if label == \"-\":\n",
        "                label == 'oth3'\n",
        "\n",
        "            # Generate a random string of length 15\n",
        "            random_string = ''.join(random.choices(string.ascii_letters + string.digits, k=15))\n",
        "\n",
        "\n",
        "            # Create a new image with a transparent background\n",
        "            cropped_image = Image.new('RGBA', (image_width, image_height), (0, 0, 0, 0))\n",
        "\n",
        "            # Create a draw object to draw the polygon on the new image\n",
        "            draw = ImageDraw.Draw(cropped_image)\n",
        "\n",
        "            # Convert the coordinates to integer tuples\n",
        "            int_coordinates = [(int(point[0]), int(point[1])) for point in coordinates]\n",
        "\n",
        "            # Draw the polygon on the new image\n",
        "            draw.polygon(int_coordinates, fill=(255, 255, 255, 255))\n",
        "\n",
        "\n",
        "            if shape_type == 'polygon':\n",
        "                # Create a mask from the drawn polygon\n",
        "                mask = ImageOps.invert(cropped_image.convert('L'))\n",
        "\n",
        "                # Apply the mask to the original image\n",
        "                masked_image = Image.new(\"RGBA\", image.size)\n",
        "                masked_image.paste(image, (0, 0), mask=cropped_image)\n",
        "\n",
        "                # Find the bounding box of the polygon\n",
        "                bbox = masked_image.getbbox()\n",
        "\n",
        "                # Crop the masked image using the bounding box\n",
        "                if bbox:\n",
        "                    cropped_image = masked_image.crop(bbox)\n",
        "\n",
        "                    # Create a new rectangular image with the determined background color\n",
        "                    rectangular_image = Image.new(\"RGB\", (cropped_image.width, cropped_image.height), (255, 255, 255))\n",
        "                    rectangular_image.paste(cropped_image, (0, 0), cropped_image)\n",
        "\n",
        "                    # Create the new filename with group ID, label, and random string\n",
        "                    new_filename = os.path.join(dest_folder, f\"{label}_{random_string}.jpg\")\n",
        "\n",
        "                    # Save the rectangular image as JPEG\n",
        "                    rectangular_image.save(new_filename, format='JPEG', quality=100)\n",
        "\n",
        "            if shape_type == 'rectangle':\n",
        "                # Find the minimum and maximum x, y coordinates\n",
        "                x_coordinates = [point[0] for point in int_coordinates]\n",
        "                y_coordinates = [point[1] for point in int_coordinates]\n",
        "\n",
        "                left = min(x_coordinates)\n",
        "                top = min(y_coordinates)\n",
        "                right = max(x_coordinates)\n",
        "                bottom = max(y_coordinates)\n",
        "\n",
        "                # Crop the original image using the bounding box\n",
        "                cropped_image = image.crop((left, top, right, bottom))\n",
        "\n",
        "                # Create the new filename with group ID, label, and random string\n",
        "                new_filename = os.path.join(dest_folder, f\"{label}_{random_string}.jpg\")\n",
        "\n",
        "                # Save the cropped image\n",
        "                cropped_image.save(new_filename, format='JPEG', quality=100)"
      ],
      "metadata": {
        "id": "I8BRWbqdNZ6q"
      },
      "execution_count": 24,
      "outputs": []
    },
    {
      "cell_type": "markdown",
      "source": [
        "### Code which moves the extracted label images to it's respective directory"
      ],
      "metadata": {
        "id": "U4dgfugih8_j"
      }
    },
    {
      "cell_type": "code",
      "source": [
        "# Path to the folder containing the files\n",
        "folder_path = '/content/dataset'\n",
        "\n",
        "# Get a list of all files in the folder\n",
        "files = os.listdir(folder_path)\n",
        "\n",
        "# Iterate over each file\n",
        "for file_name in files:\n",
        "    if os.path.isfile(os.path.join(folder_path, file_name)):\n",
        "        # Split the file name into label and random string\n",
        "        label, random_string = file_name.split('_', 1)\n",
        "\n",
        "        # Create the destination folder path\n",
        "        destination_folder = os.path.join(folder_path, label)\n",
        "\n",
        "        # Check if the destination folder exists, otherwise create it\n",
        "        if not os.path.exists(destination_folder):\n",
        "            os.makedirs(destination_folder)\n",
        "\n",
        "        # Move the file to the destination folder\n",
        "        shutil.move(os.path.join(folder_path, file_name), os.path.join(destination_folder, file_name))\n",
        "\n",
        "print(\"Files moved successfully!\")"
      ],
      "metadata": {
        "colab": {
          "base_uri": "https://localhost:8080/"
        },
        "id": "XvtMuja6Nv_8",
        "outputId": "61eb92f6-7e63-4edb-a790-9017b0e7fe96"
      },
      "execution_count": 25,
      "outputs": [
        {
          "output_type": "stream",
          "name": "stdout",
          "text": [
            "Files moved successfully!\n"
          ]
        }
      ]
    },
    {
      "cell_type": "markdown",
      "source": [
        "### Simple temporary code which is being used to convert the devenagari folder name to integer."
      ],
      "metadata": {
        "id": "zfQ7VkRwhkD8"
      }
    },
    {
      "cell_type": "code",
      "source": [
        "# Step 1: Read the names of all folders\n",
        "folder_names = os.listdir(\"/content/dataset\")  # Assuming the program is executed in the directory containing the folders\n",
        "\n",
        "# Step 2: Create a dictionary with folder names and corresponding values\n",
        "folder_dict = {}\n",
        "for i, folder_name in enumerate(folder_names):\n",
        "    folder_dict[folder_name] = i + 1000000000\n",
        "\n",
        "# Step 3: Rename files inside folders\n",
        "for folder_name, value in folder_dict.items():\n",
        "    folder_path = os.path.join('/content/dataset', folder_name)\n",
        "    files = os.listdir(folder_path)\n",
        "    for file_name in files:\n",
        "        if file_name.startswith(folder_name):\n",
        "            new_file_name = f'{value}_{file_name.split(\"_\", 1)[1]}'  # Extract the random string after the underscore\n",
        "            old_file_path = os.path.join(folder_path, file_name)\n",
        "            new_file_path = os.path.join(folder_path, new_file_name)\n",
        "            os.rename(old_file_path, new_file_path)\n",
        "\n",
        "# Step 4: Rename folders\n",
        "for folder_name, value in folder_dict.items():\n",
        "    old_folder_path = os.path.join('/content/dataset', folder_name)\n",
        "    new_folder_path = os.path.join('/content/dataset', str(value))\n",
        "    os.rename(old_folder_path, new_folder_path)"
      ],
      "metadata": {
        "id": "Y8MO2JdJQxQz"
      },
      "execution_count": 26,
      "outputs": []
    },
    {
      "cell_type": "markdown",
      "source": [
        "## Data Visualization code"
      ],
      "metadata": {
        "id": "h05IzP_TiJQs"
      }
    },
    {
      "cell_type": "code",
      "source": [
        "import os\n",
        "import random\n",
        "import matplotlib.pyplot as plt\n",
        "from matplotlib.ticker import ScalarFormatter\n",
        "\n",
        "def count_files_in_subfolders(main_folder):\n",
        "    subfolder_counts = {}\n",
        "    for root, dirs, files in os.walk(main_folder):\n",
        "        subfolder_counts[root] = len(files)\n",
        "    return subfolder_counts\n",
        "\n",
        "def visualize_subfolder_counts(subfolder_counts):\n",
        "    sorted_subfolders = sorted(subfolder_counts.items(), key=lambda x: x[1], reverse=True)\n",
        "    subfolders, file_counts = zip(*sorted_subfolders)\n",
        "\n",
        "    num_subfolders = len(subfolders)\n",
        "    indices = list(range(num_subfolders))\n",
        "\n",
        "    plt.figure(figsize=(12, 6))\n",
        "    plt.bar(indices, file_counts, color='skyblue')\n",
        "\n",
        "    # Randomly select some labels to display on the x-axis\n",
        "    num_labels_to_show = min(10, num_subfolders)  # Show a maximum of 10 labels (change as desired)\n",
        "    random_indices = random.sample(indices, num_labels_to_show)\n",
        "    plt.xticks(random_indices, [subfolders[i] for i in random_indices], rotation=45, ha='right', fontsize=8)\n",
        "\n",
        "    plt.xlabel('Folder Number')\n",
        "    plt.ylabel('Number of Files')\n",
        "    plt.title('Number of Files in Subfolders')\n",
        "\n",
        "    # Use a logarithmic scale for the y-axis to emphasize lower values\n",
        "    plt.yscale('log')\n",
        "\n",
        "    # Display total number of folders as text annotation\n",
        "    plt.annotate(f'Total Folders: {num_subfolders}', xy=(0.5, 0.95), xycoords='axes fraction', fontsize=12,\n",
        "                 ha='center', va='center', bbox=dict(boxstyle=\"round,pad=0.3\", fc=\"white\", ec=\"gray\"))\n",
        "\n",
        "    # Disable scientific notation for y-axis tick labels\n",
        "    plt.gca().yaxis.set_major_formatter(ScalarFormatter(useMathText=False))\n",
        "\n",
        "    plt.tight_layout()\n",
        "    plt.show()\n",
        "\n",
        "if __name__ == \"__main__\":\n",
        "    main_folder = \"/content/dataset\"  # Replace with the actual path to your main folder\n",
        "    subfolder_counts = count_files_in_subfolders(main_folder)\n",
        "    visualize_subfolder_counts(subfolder_counts)\n"
      ],
      "metadata": {
        "colab": {
          "base_uri": "https://localhost:8080/",
          "height": 485
        },
        "id": "ohbJbkQ8drVl",
        "outputId": "ec7f9287-2e54-4bea-f34d-f7479e46a4bc"
      },
      "execution_count": 31,
      "outputs": [
        {
          "output_type": "display_data",
          "data": {
            "text/plain": [
              "<Figure size 1200x600 with 1 Axes>"
            ],
            "image/png": "[encoded data removed]"
          },
          "metadata": {}
        }
      ]
    },
    {
      "cell_type": "code",
      "source": [],
      "metadata": {
        "id": "SXiseriZe4EV"
      },
      "execution_count": null,
      "outputs": []
    }
  ]
}